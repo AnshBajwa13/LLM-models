{
 "cells": [
  {
   "cell_type": "code",
   "execution_count": null,
   "id": "bbe2bad0-b3b4-4176-8335-c3776cd0ea72",
   "metadata": {},
   "outputs": [],
   "source": [
    "from datasets import load_dataset\n",
    "from sentence_transformers import SentenceTransformer\n",
    "from pinecone import Pinecone, ServerlessSpec\n",
    "\n",
    "import os\n",
    "import time\n",
    "import torch\n"
   ]
  },
  {
   "cell_type": "code",
   "execution_count": null,
   "id": "cc80f7e9-6a86-45c9-8c37-5e0f2a55b122",
   "metadata": {},
   "outputs": [],
   "source": [
    "from tqdm.auto import tqdm\n"
   ]
  },
  {
   "cell_type": "code",
   "execution_count": null,
   "id": "4e65b85e-afef-45a9-9ecf-80b1160671e1",
   "metadata": {},
   "outputs": [],
   "source": [
    "dataset = load_dataset('quora', split='train[240000:290000]', trust_remote_code=True)"
   ]
  },
  {
   "cell_type": "code",
   "execution_count": null,
   "id": "8a259d74-e4a0-446a-bdf4-a54a1fb97bc7",
   "metadata": {
    "scrolled": true
   },
   "outputs": [],
   "source": [
    "questions = []\n",
    "for record in dataset['questions']:\n",
    "    questions.extend(record['text'])\n",
    "question = list(set(questions))\n",
    "print('\\n'.join(questions[:10]))\n",
    "print('-' * 50)\n",
    "print(f'Number of questions: {len(questions)}')"
   ]
  },
  {
   "cell_type": "code",
   "execution_count": null,
   "id": "2887aa59-bf0d-4458-a495-964cc27d3138",
   "metadata": {},
   "outputs": [],
   "source": [
    "model=SentenceTransformer('all-MiniLM-L6-v2', device=device)"
   ]
  },
  {
   "cell_type": "code",
   "execution_count": null,
   "id": "3bb0f183-7bc0-4be4-bde0-0987519a3c3a",
   "metadata": {},
   "outputs": [],
   "source": [
    "from pinecone import Pinecone, ServerlessSpec\n",
    "\n",
    "pc = Pinecone(api_key=\"     \")"
   ]
  },
  {
   "cell_type": "code",
   "execution_count": null,
   "id": "44637615-20ab-4d5f-8044-0378b15904f5",
   "metadata": {},
   "outputs": [],
   "source": [
    "from pinecone import Pinecone\n",
    "\n",
    "pc = Pinecone(api_key=\"   \")\n",
    "index = pc.Index(\"quickstart1\")"
   ]
  },
  {
   "cell_type": "code",
   "execution_count": null,
   "id": "f251c242-7aab-42c3-9215-91f8783edda7",
   "metadata": {},
   "outputs": [],
   "source": [
    "def run_query(query):\n",
    "  embedding = model.encode(query).tolist()\n",
    "  results = index.query(top_k=10, vector=embedding, include_metadata=True, include_values=False)\n",
    "  for result in results['matches']:\n",
    "    print(f\"{round(result['score'], 2)}: {result['metadata']['text']}\")"
   ]
  },
  {
   "cell_type": "code",
   "execution_count": null,
   "id": "98c31749-994e-4f1a-961e-eabe71b2feae",
   "metadata": {},
   "outputs": [],
   "source": [
    "run_query('which city has the highest population in the world?')"
   ]
  },
  {
   "cell_type": "code",
   "execution_count": null,
   "id": "03ede9b6-f841-4eff-acef-f5ab6eec0769",
   "metadata": {},
   "outputs": [],
   "source": [
    "run_query('sikhs')\n"
   ]
  },
  {
   "cell_type": "code",
   "execution_count": null,
   "id": "89d768e7-a770-41d9-9805-b136e4a7a192",
   "metadata": {},
   "outputs": [],
   "source": []
  }
 ],
 "metadata": {
  "kernelspec": {
   "display_name": "Python 3 (ipykernel)",
   "language": "python",
   "name": "python3"
  },
  "language_info": {
   "codemirror_mode": {
    "name": "ipython",
    "version": 3
   },
   "file_extension": ".py",
   "mimetype": "text/x-python",
   "name": "python",
   "nbconvert_exporter": "python",
   "pygments_lexer": "ipython3",
   "version": "3.11.11"
  }
 },
 "nbformat": 4,
 "nbformat_minor": 5
}
