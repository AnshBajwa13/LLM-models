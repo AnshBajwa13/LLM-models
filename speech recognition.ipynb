{
 "cells": [
  {
   "cell_type": "code",
   "execution_count": null,
   "id": "47fa09cd-418b-4685-910e-35c20c5f1da0",
   "metadata": {},
   "outputs": [],
   "source": [
    "from datasets import load_dataset"
   ]
  },
  {
   "cell_type": "code",
   "execution_count": null,
   "id": "cc042b5e-e6fa-4b2b-b990-2d7f6803c4e5",
   "metadata": {},
   "outputs": [],
   "source": [
    "dataset = load_dataset(\"librispeech_asr\",\n",
    "                       split=\"train.clean.100\",\n",
    "                       streaming=True,\n",
    "                       trust_remote_code=True)"
   ]
  },
  {
   "cell_type": "code",
   "execution_count": null,
   "id": "40bc4087-1a86-46c2-96cb-fae64d489a10",
   "metadata": {},
   "outputs": [],
   "source": [
    "example = next(iter(dataset))"
   ]
  },
  {
   "cell_type": "code",
   "execution_count": null,
   "id": "f209e83a-24e9-4f5a-9847-239dc08be22a",
   "metadata": {},
   "outputs": [],
   "source": [
    "from IPython.display import Audio as IPythonAudio\n",
    "\n",
    "IPythonAudio(example[\"audio\"][\"array\"],\n",
    "             rate=example[\"audio\"][\"sampling_rate\"])"
   ]
  },
  {
   "cell_type": "code",
   "execution_count": null,
   "id": "886273e9-01ce-4907-ba61-ce871566850b",
   "metadata": {},
   "outputs": [],
   "source": [
    "from transformers import pipeline\n",
    "asr = pipeline(task=\"automatic-speech-recognition\", \n",
    "               model=\"distil-whisper/distil-small.en\")"
   ]
  },
  {
   "cell_type": "code",
   "execution_count": null,
   "id": "0bfbb874-d37e-4101-8c76-d89efc0b244b",
   "metadata": {},
   "outputs": [],
   "source": [
    "asr.feature_extractor.sampling_rate"
   ]
  },
  {
   "cell_type": "code",
   "execution_count": null,
   "id": "f571cc6b-d42e-4709-9c8e-9eb6dee714b8",
   "metadata": {},
   "outputs": [],
   "source": [
    "example['audio']['sampling_rate']"
   ]
  },
  {
   "cell_type": "code",
   "execution_count": null,
   "id": "af5def95-c556-4d70-ad85-206dc76c4e68",
   "metadata": {},
   "outputs": [],
   "source": [
    "asr(example[\"audio\"][\"array\"])"
   ]
  },
  {
   "cell_type": "code",
   "execution_count": null,
   "id": "8847ac70-e2fa-46eb-bf72-87fb2dfe3e6b",
   "metadata": {},
   "outputs": [],
   "source": [
    "example[\"text\"]"
   ]
  },
  {
   "cell_type": "code",
   "execution_count": null,
   "id": "02ff7cd1-68e4-4ffb-821c-3cbfd9efd329",
   "metadata": {},
   "outputs": [],
   "source": [
    "import os\n",
    "import gradio as gr\n",
    "demo = gr.Blocks()"
   ]
  },
  {
   "cell_type": "code",
   "execution_count": null,
   "id": "6fd64a70-c617-4e02-b0eb-ba3c289d08e3",
   "metadata": {},
   "outputs": [],
   "source": [
    "#import gradio as gr\n",
    "\n",
    "#demo = gr.Blocks()\n",
    "\n",
    "#with demo:\n",
    " #   gr.Markdown(\"# Hello, Gradio!\")  \n",
    "  #  name = gr.Textbox(label=\"Enter your name\")  \n",
    "   # output = gr.Textbox(label=\"Output\")  \n",
    "\n",
    "    #def greet(name):  \n",
    "     #   return f\"Hello, {name}!\"\n",
    "\n",
    "   # name.submit(fn=greet, inputs=name, outputs=output)  # Link the function to UI elements\n",
    "\n",
    "#demo.launch()"
   ]
  },
  {
   "cell_type": "code",
   "execution_count": null,
   "id": "370aa378-16d8-4fbd-8b0b-bfc9afdc05bb",
   "metadata": {},
   "outputs": [],
   "source": [
    "def transcribe_speech(filepath):\n",
    "    if filepath is None:\n",
    "        gr.Warning(\"No audio found, please retry.\")\n",
    "        return \"\"\n",
    "    output = asr(filepath)\n",
    "    return output[\"text\"]\n",
    " "
   ]
  },
  {
   "cell_type": "code",
   "execution_count": null,
   "id": "d989095e-d1ee-477f-80e8-2941000976e2",
   "metadata": {},
   "outputs": [],
   "source": [
    "mic_transcribe = gr.Interface(\n",
    "    fn=transcribe_speech,\n",
    "    inputs=gr.Audio(sources=\"microphone\",\n",
    "                    type=\"filepath\"),\n",
    "    outputs=gr.Textbox(label=\"Transcription\",\n",
    "                       lines=3),\n",
    "    allow_flagging=\"never\")"
   ]
  },
  {
   "cell_type": "code",
   "execution_count": null,
   "id": "b30d15b7-82f9-4ecc-97e9-1e64ddb2fe95",
   "metadata": {},
   "outputs": [],
   "source": [
    "file_transcribe = gr.Interface(\n",
    "    fn=transcribe_speech,\n",
    "    inputs=gr.Audio(sources=\"upload\",\n",
    "                    type=\"filepath\"),\n",
    "    outputs=gr.Textbox(label=\"Transcription\",\n",
    "                       lines=3),\n",
    "    allow_flagging=\"never\",\n",
    ")"
   ]
  },
  {
   "cell_type": "code",
   "execution_count": null,
   "id": "429871c7-2bac-4ccf-9c2e-ccb11e4a95c1",
   "metadata": {},
   "outputs": [],
   "source": [
    "with demo:\n",
    "    gr.TabbedInterface(\n",
    "        [mic_transcribe,\n",
    "         file_transcribe],\n",
    "        [\"Transcribe Microphone\",\n",
    "         \"Transcribe Audio File\"],\n",
    "    )\n",
    "\n",
    "demo.launch(share=True, \n",
    "            server_port=int(os.environ['PORT1']))"
   ]
  },
  {
   "cell_type": "code",
   "execution_count": null,
   "id": "c2a4bebf-42f9-437e-bc09-00c60145f0c5",
   "metadata": {},
   "outputs": [],
   "source": []
  },
  {
   "cell_type": "code",
   "execution_count": null,
   "id": "30a35536-8d39-469c-b228-3a0c053548a1",
   "metadata": {},
   "outputs": [],
   "source": []
  }
 ],
 "metadata": {
  "kernelspec": {
   "display_name": "Python 3 (ipykernel)",
   "language": "python",
   "name": "python3"
  },
  "language_info": {
   "codemirror_mode": {
    "name": "ipython",
    "version": 3
   },
   "file_extension": ".py",
   "mimetype": "text/x-python",
   "name": "python",
   "nbconvert_exporter": "python",
   "pygments_lexer": "ipython3",
   "version": "3.11.11"
  }
 },
 "nbformat": 4,
 "nbformat_minor": 5
}
